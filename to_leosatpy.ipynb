{
  "nbformat": 4,
  "nbformat_minor": 0,
  "metadata": {
    "colab": {
      "provenance": [],
      "mount_file_id": "1_NauAeK5VUhAawMEg9_5AuJ32t-KBn4V",
      "authorship_tag": "ABX9TyMT7/cZOCY3Tv/4gcmF22Tj",
      "include_colab_link": true
    },
    "kernelspec": {
      "name": "python3",
      "display_name": "Python 3"
    },
    "language_info": {
      "name": "python"
    }
  },
  "cells": [
    {
      "cell_type": "markdown",
      "metadata": {
        "id": "view-in-github",
        "colab_type": "text"
      },
      "source": [
        "<a href=\"https://colab.research.google.com/github/mariaromerocol/list_to_leosatpy/blob/master/to_leosatpy.ipynb\" target=\"_parent\"><img src=\"https://colab.research.google.com/assets/colab-badge.svg\" alt=\"Open In Colab\"/></a>"
      ]
    },
    {
      "cell_type": "code",
      "execution_count": 29,
      "metadata": {
        "id": "2lJb5NLPXsIs"
      },
      "outputs": [],
      "source": [
        "import os\n",
        "import pandas as pd\n",
        "import numpy as np\n",
        "import seaborn as sns\n",
        "import matplotlib.pyplot as plt\n",
        "import matplotlib.patches as patches"
      ]
    },
    {
      "cell_type": "code",
      "source": [
        "!git clone git@github.com:CLEOsat-group/leosatpy.git"
      ],
      "metadata": {
        "id": "7dCuT80GYUYk",
        "colab": {
          "base_uri": "https://localhost:8080/"
        },
        "outputId": "c985753f-46ed-4d58-b135-e948abeeef9f"
      },
      "execution_count": 20,
      "outputs": [
        {
          "output_type": "stream",
          "name": "stdout",
          "text": [
            "Cloning into 'leosatpy'...\n",
            "Host key verification failed.\n",
            "fatal: Could not read from remote repository.\n",
            "\n",
            "Please make sure you have the correct access rights\n",
            "and the repository exists.\n"
          ]
        }
      ]
    },
    {
      "cell_type": "code",
      "source": [
        "path_1022 = '/content/drive/MyDrive/phdAtacama/ProjectPhD/Data/Korea/2021/Oneweb/Observations_2021/20211022-starlink-20211027T173058Z-001.zip'"
      ],
      "metadata": {
        "id": "XzoigEneIbUa"
      },
      "execution_count": 21,
      "outputs": []
    },
    {
      "cell_type": "code",
      "source": [
        "!unzip /content/drive/MyDrive/phdAtacama/ProjectPhD/Data/Korea/2021/Oneweb/Observations_2021/20211022-starlink-20211027T173058Z-001.zip -d ."
      ],
      "metadata": {
        "colab": {
          "base_uri": "https://localhost:8080/"
        },
        "id": "8Pn-bGvrI9Ze",
        "outputId": "912a6a38-71d8-4e9f-8320-e323600262ec"
      },
      "execution_count": 24,
      "outputs": [
        {
          "output_type": "stream",
          "name": "stdout",
          "text": [
            "Archive:  /content/drive/MyDrive/phdAtacama/ProjectPhD/Data/Korea/2021/Oneweb/Observations_2021/20211022-starlink-20211027T173058Z-001.zip\n",
            "  inflating: ./20211022-starlink/bias-m-2X2-006.fits  \n",
            "  inflating: ./20211022-starlink/bias-m-2X2-007.fits  \n",
            "  inflating: ./20211022-starlink/ONEWEB-0137-N-20211022193759.fits  \n",
            "  inflating: ./20211022-starlink/ONEWEB-0152-N-20211022192659.fits  \n",
            "  inflating: ./20211022-starlink/ONEWEB-0306-N-20211022193659.fits  \n",
            "  inflating: ./20211022-starlink/ONEWEB-0326-20211022193929.fits  \n",
            "  inflating: ./20211022-starlink/dark-m-2X2-018.fits  \n",
            "  inflating: ./20211022-starlink/dark-m-2X2-019.fits  \n",
            "  inflating: ./20211022-starlink/ONEWEB-0117-20211022193029.fits  \n",
            "  inflating: ./20211022-starlink/ONEWEB-0159-20211022192429.fits  \n",
            "  inflating: ./20211022-starlink/ONEWEB-0326-N-20211022193959.fits  \n",
            "  inflating: ./20211022-starlink/dark-m-2X2-016.fits  \n",
            "  inflating: ./20211022-starlink/ONEWEB-0137-20211022193729.fits  \n",
            "  inflating: ./20211022-starlink/ONEWEB-0292-N-20211022193559.fits  \n",
            "  inflating: ./20211022-starlink/bias-m-2X2-008.fits  \n",
            "  inflating: ./20211022-starlink/bias-m-2X2-009.fits  \n",
            "  inflating: ./20211022-starlink/bias-m-2X2-010.fits  \n",
            "  inflating: ./20211022-starlink/dark-m-2X2-017.fits  \n",
            "  inflating: ./20211022-starlink/ONEWEB-0306-20211022193629.fits  \n",
            "  inflating: ./20211022-starlink/ONEWEB-0132-N-20211022192259.fits  \n",
            "  inflating: ./20211022-starlink/ONEWEB-0292-20211022193529.fits  \n",
            "  inflating: ./20211022-starlink/ONEWEB-0159-N-20211022192459.fits  \n",
            "  inflating: ./20211022-starlink/ONEWEB-0152-20211022192629.fits  \n",
            "  inflating: ./20211022-starlink/ONEWEB-0335-20211022192029.fits  \n",
            "  inflating: ./20211022-starlink/ONEWEB-0114-N-20211022194059.fits  \n",
            "  inflating: ./20211022-starlink/dark-m-2X2-020.fits  \n",
            "  inflating: ./20211022-starlink/ONEWEB-0345-N-20211022190759.fits  \n",
            "  inflating: ./20211022-starlink/ONEWEB-0325-N-20211022192359.fits  \n",
            "  inflating: ./20211022-starlink/ONEWEB-0132-20211022192229.fits  \n",
            "  inflating: ./20211022-starlink/ONEWEB-0117-N-20211022193059.fits  \n",
            "  inflating: ./20211022-starlink/ONEWEB-0335-N-20211022192059.fits  \n",
            "  inflating: ./20211022-starlink/ONEWEB-0343-20211022191929.fits  \n",
            "  inflating: ./20211022-starlink/ONEWEB-0344-20211022191629.fits  \n",
            "  inflating: ./20211022-starlink/ONEWEB-0107-20211022191429.fits  \n",
            "  inflating: ./20211022-starlink/ONEWEB-0107-N-20211022191459.fits  \n",
            "  inflating: ./20211022-starlink/ONEWEB-0343-N-20211022191959.fits  \n",
            "  inflating: ./20211022-starlink/ONEWEB-0325-20211022192329.fits  \n",
            "  inflating: ./20211022-starlink/ONEWEB-0321-20211022190529.fits  \n",
            "  inflating: ./20211022-starlink/ONEWEB-0344-N-20211022191659.fits  \n",
            "  inflating: ./20211022-starlink/ONEWEB-0121-N-20211022192559.fits  \n",
            "  inflating: ./20211022-starlink/ONEWEB-0121-20211022192529.fits  \n",
            "  inflating: ./20211022-starlink/ONEWEB-0114-20211022194029.fits  \n",
            "  inflating: ./20211022-starlink/ONEWEB-0303-20211022191029.fits  \n",
            "  inflating: ./20211022-starlink/ONEWEB-0346-N-20211022190359.fits  \n",
            "  inflating: ./20211022-starlink/ONEWEB-0303-N-20211022191059.fits  \n",
            "  inflating: ./20211022-starlink/ONEWEB-0346-20211022190329.fits  \n",
            "  inflating: ./20211022-starlink/ONEWEB-0345-20211022190729.fits  \n",
            "  inflating: ./20211022-starlink/ONEWEB-0337-N-20211022190459.fits  \n",
            "  inflating: ./20211022-starlink/ONEWEB-0321-N-20211022190559.fits  \n",
            "  inflating: ./20211022-starlink/ONEWEB-0154-20211022185029.fits  \n",
            "  inflating: ./20211022-starlink/ONEWEB-0149-20211022184429.fits  \n",
            "  inflating: ./20211022-starlink/ONEWEB-0108-N-20211022183759.fits  \n",
            "  inflating: ./20211022-starlink/ONEWEB-0324-20211022185729.fits  \n",
            "  inflating: ./20211022-starlink/ONEWEB-0166-N-20211022182759.fits  \n",
            "  inflating: ./20211022-starlink/ONEWEB-0337-20211022190429.fits  \n",
            "  inflating: ./20211022-starlink/ONEWEB-0149-N-20211022184459.fits  \n",
            "  inflating: ./20211022-starlink/ONEWEB-0108-20211022183729.fits  \n",
            "  inflating: ./20211022-starlink/ONEWEB-0324-N-20211022185759.fits  \n",
            "  inflating: ./20211022-starlink/ONEWEB-0175-20211022184329.fits  \n",
            "  inflating: ./20211022-starlink/tle_oneweb_2021_10_22_05h_57m_18s.txt  \n",
            "  inflating: ./20211022-starlink/flatR-e-2X2-013.fits  \n",
            "  inflating: ./20211022-starlink/ONEWEB-0166-20211022182729.fits  \n",
            "  inflating: ./20211022-starlink/ONEWEB-0336-N-20211022190059.fits  \n",
            "  inflating: ./20211022-starlink/ONEWEB-0101-N-20211022182559.fits  \n",
            "  inflating: ./20211022-starlink/flatR-e-2X2-014.fits  \n",
            "  inflating: ./20211022-starlink/ONEWEB-0336-20211022190029.fits  \n",
            "  inflating: ./20211022-starlink/ONEWEB-0154-N-20211022185059.fits  \n",
            "  inflating: ./20211022-starlink/ONEWEB-0357-N-20211022185859.fits  \n",
            "  inflating: ./20211022-starlink/observing-details_for-oneweb_CBNUO_2021_10_22_evening.txt  \n",
            "  inflating: ./20211022-starlink/visible-onewebs_CBNUO_2021_10_22_evening.txt  \n",
            "  inflating: ./20211022-starlink/ONEWEB-0357-20211022185829.fits  \n",
            "  inflating: ./20211022-starlink/ONEWEB-0175-N-20211022184359.fits  \n",
            "  inflating: ./20211022-starlink/flatV-e-2X2-006.fits  \n",
            "  inflating: ./20211022-starlink/flatB-e-2X2-001.fits  \n",
            "  inflating: ./20211022-starlink/flatB-e-2X2-003.fits  \n",
            "  inflating: ./20211022-starlink/flatR-e-2X2-015.fits  \n",
            "  inflating: ./20211022-starlink/flatR-e-2X2-011.fits  \n",
            "  inflating: ./20211022-starlink/flatB-e-2X2-005.fits  \n",
            "  inflating: ./20211022-starlink/flatV-e-2X2-010.fits  \n",
            "  inflating: ./20211022-starlink/flatV-e-2X2-009.fits  \n",
            "  inflating: ./20211022-starlink/flatR-e-2X2-012.fits  \n",
            "  inflating: ./20211022-starlink/flatB-e-2X2-002.fits  \n",
            "  inflating: ./20211022-starlink/flatV-e-2X2-007.fits  \n",
            "  inflating: ./20211022-starlink/flatB-e-2X2-004.fits  \n",
            "  inflating: ./20211022-starlink/flatV-e-2X2-008.fits  \n"
          ]
        }
      ]
    },
    {
      "cell_type": "code",
      "source": [
        "!ls\n"
      ],
      "metadata": {
        "colab": {
          "base_uri": "https://localhost:8080/"
        },
        "id": "A8N7WZiYJiLz",
        "outputId": "d3808c41-3e11-4a84-ba87-460c4e8bcfa3"
      },
      "execution_count": 25,
      "outputs": [
        {
          "output_type": "stream",
          "name": "stdout",
          "text": [
            "20211022-starlink  drive  sample_data\n"
          ]
        }
      ]
    },
    {
      "cell_type": "code",
      "source": [
        "!mkdir 20211022-starlink/bias/"
      ],
      "metadata": {
        "id": "fZg8vApSPq7N"
      },
      "execution_count": 56,
      "outputs": []
    },
    {
      "cell_type": "code",
      "source": [
        "!mkdir 20211022-starlink/dark/\n",
        "!mkdir 20211022-starlink/flat/\n"
      ],
      "metadata": {
        "colab": {
          "base_uri": "https://localhost:8080/"
        },
        "id": "ndRG6SY2Pzk6",
        "outputId": "9834aa96-c164-41d1-d9df-f2f5000decfc"
      },
      "execution_count": 65,
      "outputs": [
        {
          "output_type": "stream",
          "name": "stdout",
          "text": [
            "mkdir: cannot create directory ‘20211022-starlink/dark/’: File exists\n",
            "mkdir: cannot create directory ‘20211022-starlink/flat/’: File exists\n"
          ]
        }
      ]
    },
    {
      "cell_type": "code",
      "source": [
        "!mv 20211022-starlink/bias*fits 20211022-starlink/bias/\n",
        "!ls 20211022-starlink/bias/"
      ],
      "metadata": {
        "colab": {
          "base_uri": "https://localhost:8080/"
        },
        "id": "FnF8pE-zSioA",
        "outputId": "f9d83699-f6a4-4aed-c6bc-533265fbc1e3"
      },
      "execution_count": 66,
      "outputs": [
        {
          "output_type": "stream",
          "name": "stdout",
          "text": [
            "bias-m-2X2-006.fits  bias-m-2X2-008.fits  bias-m-2X2-010.fits\n",
            "bias-m-2X2-007.fits  bias-m-2X2-009.fits\n"
          ]
        }
      ]
    },
    {
      "cell_type": "code",
      "source": [
        "!mv 20211022-starlink/dark*fits 20211022-starlink/dark/\n",
        "!ls 20211022-starlink/dark/\n",
        "\n",
        "!mv 20211022-starlink/flat*fits 20211022-starlink/flat/\n",
        "!ls 20211022-starlink/flat/"
      ],
      "metadata": {
        "colab": {
          "base_uri": "https://localhost:8080/"
        },
        "id": "dXhtCK85StWP",
        "outputId": "88166295-6594-4d51-ba67-15bac66ff699"
      },
      "execution_count": 67,
      "outputs": [
        {
          "output_type": "stream",
          "name": "stdout",
          "text": [
            "dark-m-2X2-016.fits  dark-m-2X2-018.fits  dark-m-2X2-020.fits\n",
            "dark-m-2X2-017.fits  dark-m-2X2-019.fits\n",
            "flatB-e-2X2-001.fits  flatR-e-2X2-011.fits  flatV-e-2X2-006.fits\n",
            "flatB-e-2X2-002.fits  flatR-e-2X2-012.fits  flatV-e-2X2-007.fits\n",
            "flatB-e-2X2-003.fits  flatR-e-2X2-013.fits  flatV-e-2X2-008.fits\n",
            "flatB-e-2X2-004.fits  flatR-e-2X2-014.fits  flatV-e-2X2-009.fits\n",
            "flatB-e-2X2-005.fits  flatR-e-2X2-015.fits  flatV-e-2X2-010.fits\n"
          ]
        }
      ]
    },
    {
      "cell_type": "code",
      "source": [
        "path_list = ('/content/20211022-starlink')\n",
        "list_namesf = os.listdir(path_list)"
      ],
      "metadata": {
        "id": "yn5LbGaDLrbo"
      },
      "execution_count": 70,
      "outputs": []
    },
    {
      "cell_type": "code",
      "source": [
        "satellites = pd.read_csv('/content/satellites_sort.csv', sep=',')\n",
        "\n",
        "df_aslist = pd.DataFrame()\n",
        "df_aslist['object'] = satellites['Object']\n",
        "df_aslist['date obs'] = satellites['Date-Obs']"
      ],
      "metadata": {
        "id": "-ZIg5cZEJ5QK"
      },
      "execution_count": 71,
      "outputs": []
    },
    {
      "cell_type": "code",
      "source": [
        "df_aslist.columns"
      ],
      "metadata": {
        "colab": {
          "base_uri": "https://localhost:8080/"
        },
        "id": "COGiJuZfOl_Q",
        "outputId": "30af2881-a54e-4906-e2c7-57546f8ffad4"
      },
      "execution_count": 72,
      "outputs": [
        {
          "output_type": "execute_result",
          "data": {
            "text/plain": [
              "Index(['object', 'date obs'], dtype='object')"
            ]
          },
          "metadata": {},
          "execution_count": 72
        }
      ]
    },
    {
      "cell_type": "code",
      "source": [
        "to_leosatpy_1022 = []\n",
        "\n",
        "for idx, namef in enumerate(list_namesf):\n",
        "     if (namef[:11] in df_aslist['object'].values):\n",
        "          to_leosatpy_1022.append(namef)"
      ],
      "metadata": {
        "id": "oNMvLUIBOS-U"
      },
      "execution_count": 79,
      "outputs": []
    },
    {
      "cell_type": "code",
      "source": [],
      "metadata": {
        "id": "p-_NMYciPWAQ"
      },
      "execution_count": null,
      "outputs": []
    }
  ]
}