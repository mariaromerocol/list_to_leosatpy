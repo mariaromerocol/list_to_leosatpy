{
  "nbformat": 4,
  "nbformat_minor": 0,
  "metadata": {
    "colab": {
      "provenance": [],
      "mount_file_id": "1_NauAeK5VUhAawMEg9_5AuJ32t-KBn4V",
      "authorship_tag": "ABX9TyMOLe2wFO05xR3+WOgHuGfK",
      "include_colab_link": true
    },
    "kernelspec": {
      "name": "python3",
      "display_name": "Python 3"
    },
    "language_info": {
      "name": "python"
    }
  },
  "cells": [
    {
      "cell_type": "markdown",
      "metadata": {
        "id": "view-in-github",
        "colab_type": "text"
      },
      "source": [
        "<a href=\"https://colab.research.google.com/github/mariaromerocol/list_to_leosatpy/blob/master/to_leosatpy.ipynb\" target=\"_parent\"><img src=\"https://colab.research.google.com/assets/colab-badge.svg\" alt=\"Open In Colab\"/></a>"
      ]
    },
    {
      "cell_type": "code",
      "execution_count": 84,
      "metadata": {
        "id": "2lJb5NLPXsIs"
      },
      "outputs": [],
      "source": [
        "import os\n",
        "\n",
        "import shutil\n",
        "\n",
        "import numpy as np\n",
        "import pandas as pd\n",
        "import seaborn as sns\n",
        "from zipfile import ZipFile\n",
        "import matplotlib.pyplot as plt\n",
        "import matplotlib.patches as patches"
      ]
    },
    {
      "cell_type": "code",
      "source": [
        "from google.colab import drive\n",
        "drive.mount('/content/drive')"
      ],
      "metadata": {
        "colab": {
          "base_uri": "https://localhost:8080/"
        },
        "id": "IpaDDZkrTdgs",
        "outputId": "bec6d322-ede8-402c-c834-028f01e684b9"
      },
      "execution_count": 5,
      "outputs": [
        {
          "output_type": "stream",
          "name": "stdout",
          "text": [
            "Drive already mounted at /content/drive; to attempt to forcibly remount, call drive.mount(\"/content/drive\", force_remount=True).\n"
          ]
        }
      ]
    },
    {
      "cell_type": "code",
      "source": [
        "!git clone git@github.com:CLEOsat-group/leosatpy.git"
      ],
      "metadata": {
        "id": "7dCuT80GYUYk",
        "colab": {
          "base_uri": "https://localhost:8080/"
        },
        "outputId": "c985753f-46ed-4d58-b135-e948abeeef9f"
      },
      "execution_count": null,
      "outputs": [
        {
          "output_type": "stream",
          "name": "stdout",
          "text": [
            "Cloning into 'leosatpy'...\n",
            "Host key verification failed.\n",
            "fatal: Could not read from remote repository.\n",
            "\n",
            "Please make sure you have the correct access rights\n",
            "and the repository exists.\n"
          ]
        }
      ]
    },
    {
      "cell_type": "code",
      "source": [
        "path_1022 = '/content/drive/MyDrive/phdAtacama/ProjectPhD/Data/Korea/2021/Oneweb/Observations_2021/20211022-starlink-20211027T173058Z-001.zip'"
      ],
      "metadata": {
        "id": "XzoigEneIbUa"
      },
      "execution_count": 6,
      "outputs": []
    },
    {
      "cell_type": "code",
      "source": [
        "!ls /content/drive/MyDrive/phdAtacama/ProjectPhD/Data/Korea/2021/Oneweb/Observations_2021/*.zip > zipfile_list.txt"
      ],
      "metadata": {
        "id": "iaM48ACbWBdv"
      },
      "execution_count": 14,
      "outputs": []
    },
    {
      "cell_type": "code",
      "source": [
        "!rm zipfile_list"
      ],
      "metadata": {
        "id": "fwGjl3c3WXpQ"
      },
      "execution_count": 15,
      "outputs": []
    },
    {
      "cell_type": "code",
      "source": [
        "!pwd"
      ],
      "metadata": {
        "colab": {
          "base_uri": "https://localhost:8080/"
        },
        "id": "x-hJNI_1XAEL",
        "outputId": "7abebf1e-5025-4cd7-c3f9-141f01a6e781"
      },
      "execution_count": 65,
      "outputs": [
        {
          "output_type": "stream",
          "name": "stdout",
          "text": [
            "/content/2021-10-24/bias\n"
          ]
        }
      ]
    },
    {
      "cell_type": "code",
      "source": [
        "zipfile_list = []\n",
        "with open('zipfile_list.txt') as f:\n",
        "    [zipfile_list.append(line.strip()) for line in f.readlines()]"
      ],
      "metadata": {
        "id": "4xCbq07qXpDk"
      },
      "execution_count": 20,
      "outputs": []
    },
    {
      "cell_type": "code",
      "source": [
        "for idx, zipfiles in enumerate(zipfile_list):\n",
        "    with ZipFile(zipfiles, 'r') as zip:\n",
        "        # printing all the contents of the zip file\n",
        "        # zip.printdir()\n",
        "\n",
        "        # extracting all the files\n",
        "        print(zipfiles)\n",
        "        zip.extractall()\n",
        "        print('Done!')\n",
        "\n",
        "# !unzip /content/drive/MyDrive/phdAtacama/ProjectPhD/Data/Korea/2021/Oneweb/Observations_2021/20211022-starlink-20211027T173058Z-001.zip -d ."
      ],
      "metadata": {
        "colab": {
          "base_uri": "https://localhost:8080/"
        },
        "id": "8Pn-bGvrI9Ze",
        "outputId": "0975bc94-4a52-46a7-b5bf-4dd689a09646"
      },
      "execution_count": 30,
      "outputs": [
        {
          "output_type": "stream",
          "name": "stdout",
          "text": [
            "/content/drive/MyDrive/phdAtacama/ProjectPhD/Data/Korea/2021/Oneweb/Observations_2021/20211022-starlink-20211027T173058Z-001.zip\n",
            "Done!\n",
            "/content/drive/MyDrive/phdAtacama/ProjectPhD/Data/Korea/2021/Oneweb/Observations_2021/20211024-starlink-20211027T173138Z-001.zip\n",
            "Done!\n",
            "/content/drive/MyDrive/phdAtacama/ProjectPhD/Data/Korea/2021/Oneweb/Observations_2021/20211025-starlink-20211027T173142Z-001.zip\n",
            "Done!\n",
            "/content/drive/MyDrive/phdAtacama/ProjectPhD/Data/Korea/2021/Oneweb/Observations_2021/20211026-starlink-20211027T173145Z-001.zip\n",
            "Done!\n",
            "/content/drive/MyDrive/phdAtacama/ProjectPhD/Data/Korea/2021/Oneweb/Observations_2021/20211026-starlink-20211029T190739Z-001.zip\n",
            "Done!\n",
            "/content/drive/MyDrive/phdAtacama/ProjectPhD/Data/Korea/2021/Oneweb/Observations_2021/20211027-starlink-20211029T190741Z-001.zip\n",
            "Done!\n",
            "/content/drive/MyDrive/phdAtacama/ProjectPhD/Data/Korea/2021/Oneweb/Observations_2021/20211028-starlink-20211029T190743Z-001.zip\n",
            "Done!\n",
            "/content/drive/MyDrive/phdAtacama/ProjectPhD/Data/Korea/2021/Oneweb/Observations_2021/20211029-starlink-20211029T190746Z-001.zip\n",
            "Done!\n",
            "/content/drive/MyDrive/phdAtacama/ProjectPhD/Data/Korea/2021/Oneweb/Observations_2021/20211030-starlink-20211109T153142Z-001.zip\n",
            "Done!\n",
            "/content/drive/MyDrive/phdAtacama/ProjectPhD/Data/Korea/2021/Oneweb/Observations_2021/20211031-starlink-20211109T153145Z-001.zip\n",
            "Done!\n",
            "/content/drive/MyDrive/phdAtacama/ProjectPhD/Data/Korea/2021/Oneweb/Observations_2021/20211031-starlink-20211123T161206Z-001.zip\n",
            "Done!\n",
            "/content/drive/MyDrive/phdAtacama/ProjectPhD/Data/Korea/2021/Oneweb/Observations_2021/20211101-starlink-20211109T153148Z-001.zip\n",
            "Done!\n",
            "/content/drive/MyDrive/phdAtacama/ProjectPhD/Data/Korea/2021/Oneweb/Observations_2021/20211102-starlink-20211109T153151Z-001.zip\n",
            "Done!\n",
            "/content/drive/MyDrive/phdAtacama/ProjectPhD/Data/Korea/2021/Oneweb/Observations_2021/20211103-starlink-20211109T153153Z-001.zip\n",
            "Done!\n",
            "/content/drive/MyDrive/phdAtacama/ProjectPhD/Data/Korea/2021/Oneweb/Observations_2021/20211105-starlink-20211109T153156Z-001.zip\n",
            "Done!\n"
          ]
        }
      ]
    },
    {
      "cell_type": "code",
      "source": [
        "!ls"
      ],
      "metadata": {
        "colab": {
          "base_uri": "https://localhost:8080/"
        },
        "id": "XuYSLdDvevf-",
        "outputId": "0eaff0c4-9180-4759-b2c1-ea2eda5db399"
      },
      "execution_count": 31,
      "outputs": [
        {
          "output_type": "stream",
          "name": "stdout",
          "text": [
            "20211022-starlink  20211027-starlink  20211031-starlink  20211105-starlink\n",
            "20211024-starlink  20211028-starlink  20211101-starlink  drive\n",
            "20211025-starlink  20211029-starlink  20211102-starlink  sample_data\n",
            "20211026-starlink  20211030-starlink  20211103-starlink  zipfile_list.txt\n"
          ]
        }
      ]
    },
    {
      "cell_type": "code",
      "source": [
        "!mkdir 2021-10-24\n",
        "!mv  20211024-starlink/* 2021-10-24/\n",
        "!mkdir 2021-10-25\n",
        "!mv  20211025-starlink/* 2021-10-25/\n",
        "!mkdir 2021-10-26\n",
        "!mv  20211026-starlink/* 2021-10-26/\n",
        "!mkdir 2021-10-27\n",
        "!mv  20211027-starlink/* 2021-10-27/\n",
        "!mkdir 2021-10-28\n",
        "!mv  20211028-starlink/* 2021-10-28/\n",
        "!mkdir 2021-10-29\n",
        "!mv  20211029-starlink/* 2021-10-29/\n",
        "!mkdir 2021-10-30\n",
        "!mv  20211030-starlink/* 2021-10-30/\n",
        "!mkdir 2021-10-31\n",
        "!mv  20211031-starlink/* 2021-10-31/\n",
        "!mkdir 2021-11-01\n",
        "!mv  20211101-starlink/* 2021-11-01/\n",
        "!mkdir 2021-11-02\n",
        "!mv  20211102-starlink/* 2021-11-02/\n",
        "!mkdir 2021-11-03\n",
        "!mv  20211103-starlink/* 2021-11-03/\n",
        "!mkdir 2021-11-05\n",
        "!mv  20211105-starlink/* 2021-11-05/"
      ],
      "metadata": {
        "id": "A8N7WZiYJiLz"
      },
      "execution_count": 37,
      "outputs": []
    },
    {
      "cell_type": "code",
      "source": [
        "!rm -rf *-starlink"
      ],
      "metadata": {
        "id": "ndRG6SY2Pzk6"
      },
      "execution_count": 38,
      "outputs": []
    },
    {
      "cell_type": "code",
      "source": [
        "list_namesf = os.listdir(path_list)"
      ],
      "metadata": {
        "colab": {
          "base_uri": "https://localhost:8080/"
        },
        "id": "_LYG93JTkXEE",
        "outputId": "871b5f58-93c6-4291-ef52-65f8c774ef6a"
      },
      "execution_count": 50,
      "outputs": [
        {
          "output_type": "stream",
          "name": "stdout",
          "text": [
            "2021-10-22  2021-10-26\t2021-10-29  2021-11-01\t2021-11-05   zipfile_list.txt\n",
            "2021-10-24  2021-10-27\t2021-10-30  2021-11-02\tdrive\n",
            "2021-10-25  2021-10-28\t2021-10-31  2021-11-03\tsample_data\n"
          ]
        }
      ]
    },
    {
      "cell_type": "code",
      "source": [
        "import shutil\n",
        "\n",
        "\n",
        "old_folder = '/content/2021-10-24/bias*.fits'\n",
        "new_folder = '/content/2021-10-24/bias/'\n",
        "\n",
        "if os.path.exists(old_folder):\n",
        "    shutil.move(old_folder, new_folder)\n",
        "else:\n",
        "    print(f\"El archivo '{old_folder}' no existe.\")"
      ],
      "metadata": {
        "colab": {
          "base_uri": "https://localhost:8080/"
        },
        "id": "n9WN3c4SiNL3",
        "outputId": "5fa3d04f-39c4-43e7-a701-6e8906e801df"
      },
      "execution_count": 68,
      "outputs": [
        {
          "output_type": "stream",
          "name": "stdout",
          "text": [
            "El archivo '/content/2021-10-24/bias*.fits' no existe.\n"
          ]
        }
      ]
    },
    {
      "cell_type": "code",
      "source": [
        "os.chdir('/content/2021-10-24/')\n",
        "\n",
        "# os.mv(old_folder)\n",
        "# print(os.listdir())"
      ],
      "metadata": {
        "colab": {
          "base_uri": "https://localhost:8080/"
        },
        "id": "2nS6X8IcmuKY",
        "outputId": "9f62e21f-8cc1-440a-e6af-7a40fa39cdd1"
      },
      "execution_count": 66,
      "outputs": [
        {
          "output_type": "stream",
          "name": "stdout",
          "text": [
            "['flatB-e-2X2-002.fits', 'dark-e-2X2-006.fits', 'flatV-e-2X2-009.fits', 'ONEWEB-0325-20211024185429.fits', 'ONEWEB-0326-N-20211024190859.fits', 'ONEWEB-0334-N-20211024191159.fits', 'ONEWEB-0169-N-20211024184659.fits', 'flatB-e-2X2-005.fits', 'ONEWEB-0306-N-20211024190359.fits', 'ONEWEB-0325-N-20211024185459.fits', 'ONEWEB-0336-N-20211024192859.fits', 'ONEWEB-0345-20211024193429.fits', 'ONEWEB-0355-N-20211024185659.fits', 'flatR-e-2X2-015.fits', 'flatB-e-2X2-004.fits', 'bias-e-2X2-002.fits', 'ONEWEB-0345-N-20211024193459.fits', 'ONEWEB-0354-N-20211024190459.fits', 'ONEWEB-0334-20211024191129.fits', 'bias', 'ONEWEB-0348-20211024191029.fits', 'tle_oneweb_2021_10_24_05h_40m_23s.txt', 'ONEWEB-0339-N-20211024191259.fits', 'dark-e-2X2-005.fits', 'bias-e-2X2-004.fits', 'ONEWEB-0135-N-20211024193759.fits', 'ONEWEB-0336-20211024192829.fits', 'ONEWEB-0331-N-20211024190259.fits', 'flatV-e-2X2-007.fits', 'flatR-e-2X2-014.fits', 'ONEWEB-0333-20211024185029.fits', 'ONEWEB-0350-N-20211024190659.fits', 'ONEWEB-0110-20211024193629.fits', 'ONEWEB-0355-20211024185629.fits', 'ONEWEB-0135-20211024193729.fits', 'ONEWEB-0120-20211024192329.fits', 'ONEWEB-0150-20211024184529.fits', 'flatV-e-2X2-010.fits', 'ONEWEB-0350-20211024190629.fits', 'ONEWEB-0148-20211024191329.fits', 'flatR-e-2X2-011.fits', 'ONEWEB-0169-20211024184629.fits', 'ONEWEB-0354-20211024190429.fits', 'flatR-e-2X2-012.fits', 'ONEWEB-0107-20211024184429.fits', 'ONEWEB-0107-N-20211024184459.fits', 'ONEWEB-0133-N-20211024191859.fits', 'ONEWEB-0306-20211024190329.fits', 'ONEWEB-0133-20211024191829.fits', 'ONEWEB-0348-N-20211024191059.fits', 'ONEWEB-0110-N-20211024193659.fits', 'ONEWEB-0331-20211024190229.fits', 'bias-e-2X2-003.fits', 'flatB-e-2X2-001.fits', 'ONEWEB-0352-N-20211024191659.fits', 'ONEWEB-0339-20211024191229.fits', 'bias-e-2X2-001.fits', 'ONEWEB-0333-N-20211024185059.fits', 'dark-e-2X2-003.fits', 'ONEWEB-0115-N-20211024184259.fits', 'ONEWEB-0326-20211024190829.fits', 'ONEWEB-0352-20211024191629.fits', 'ONEWEB-0150-N-20211024184559.fits', 'ONEWEB-0177-N-20211024183859.fits', 'ONEWEB-0320-20211024185929.fits', 'ONEWEB-0337-20211024193129.fits', 'ONEWEB-0357-N-20211024192059.fits', 'ONEWEB-0357-20211024192029.fits', 'ONEWEB-0337-N-20211024193159.fits', 'dark-e-2X2-002.fits', 'dark-e-2X2-004.fits', 'observing-details_for-oneweb_CBNUO_2021_10_24_evening.txt', 'visible-onewebs_CBNUO_2021_10_24_evening.txt', 'flatV-e-2X2-006.fits', 'ONEWEB-0320-N-20211024185959.fits', 'ONEWEB-0115-20211024184229.fits', 'ONEWEB-0148-N-20211024191359.fits', 'flatB-e-2X2-003.fits', 'flatV-e-2X2-008.fits', 'flatR-e-2X2-013.fits', 'ONEWEB-0120-N-20211024192359.fits', 'bias-e-2X2-005.fits']\n"
          ]
        }
      ]
    },
    {
      "cell_type": "code",
      "source": [],
      "metadata": {
        "id": "BK7GQ0hxpDjP"
      },
      "execution_count": 64,
      "outputs": []
    },
    {
      "cell_type": "code",
      "source": [
        "path_origin = '/content/'\n",
        "\n",
        "list_namesf = os.listdir(path_origin)\n",
        "\n",
        "for idx, name_folder in enumerate(list_namesf):\n",
        "    print(name_folder)\n",
        "    if name_folder[:4] == '2021' :\n",
        "        path_tem0 = path_origin + name_folder + '/'\n",
        "        list_nfiles = os.listdir(path_tem0)\n",
        "        for idx1, name_file in enumerate(list_nfiles):\n",
        "            bias_str = 'bias/'\n",
        "            dark_str = 'dark/'\n",
        "            flat_str = 'flat/'\n",
        "            if name_file[:4] == 'bias':\n",
        "                path_tem1 = path_tem0 + name_file\n",
        "                os.mkdir(path_tem0 + 'bias/')\n",
        "                path_dir = path_tem0 + bias_str\n",
        "                if os.path.exists(path_tem1):\n",
        "                    shutil.move(path_tem1, path_dir)\n",
        "                else:\n",
        "                    print(f\"El archivo '{path_tem1}' no existe.\")\n",
        "\n",
        "                # Delete temporal file\n",
        "                print(path_tem1)\n",
        "                del(path_tem1)\n",
        "\n"
      ],
      "metadata": {
        "colab": {
          "base_uri": "https://localhost:8080/",
          "height": 279
        },
        "id": "RoC-dOdmg_jA",
        "outputId": "4afe359e-7f1e-4a93-d733-0f291d2b5801"
      },
      "execution_count": 89,
      "outputs": [
        {
          "output_type": "stream",
          "name": "stdout",
          "text": [
            ".config\n",
            "2021-11-02\n"
          ]
        },
        {
          "output_type": "error",
          "ename": "FileExistsError",
          "evalue": "ignored",
          "traceback": [
            "\u001b[0;31m---------------------------------------------------------------------------\u001b[0m",
            "\u001b[0;31mFileExistsError\u001b[0m                           Traceback (most recent call last)",
            "\u001b[0;32m<ipython-input-89-bef43078abe6>\u001b[0m in \u001b[0;36m<cell line: 5>\u001b[0;34m()\u001b[0m\n\u001b[1;32m     14\u001b[0m             \u001b[0;32mif\u001b[0m \u001b[0mname_file\u001b[0m\u001b[0;34m[\u001b[0m\u001b[0;34m:\u001b[0m\u001b[0;36m4\u001b[0m\u001b[0;34m]\u001b[0m \u001b[0;34m==\u001b[0m \u001b[0;34m'bias'\u001b[0m\u001b[0;34m:\u001b[0m\u001b[0;34m\u001b[0m\u001b[0;34m\u001b[0m\u001b[0m\n\u001b[1;32m     15\u001b[0m                 \u001b[0mpath_tem1\u001b[0m \u001b[0;34m=\u001b[0m \u001b[0mpath_tem0\u001b[0m \u001b[0;34m+\u001b[0m \u001b[0mname_file\u001b[0m\u001b[0;34m\u001b[0m\u001b[0;34m\u001b[0m\u001b[0m\n\u001b[0;32m---> 16\u001b[0;31m                 \u001b[0mos\u001b[0m\u001b[0;34m.\u001b[0m\u001b[0mmkdir\u001b[0m\u001b[0;34m(\u001b[0m\u001b[0mpath_tem0\u001b[0m \u001b[0;34m+\u001b[0m \u001b[0;34m'bias/'\u001b[0m\u001b[0;34m)\u001b[0m\u001b[0;34m\u001b[0m\u001b[0;34m\u001b[0m\u001b[0m\n\u001b[0m\u001b[1;32m     17\u001b[0m                 \u001b[0mpath_dir\u001b[0m \u001b[0;34m=\u001b[0m \u001b[0mpath_tem0\u001b[0m \u001b[0;34m+\u001b[0m \u001b[0mbias_str\u001b[0m\u001b[0;34m\u001b[0m\u001b[0;34m\u001b[0m\u001b[0m\n\u001b[1;32m     18\u001b[0m                 \u001b[0;32mif\u001b[0m \u001b[0mos\u001b[0m\u001b[0;34m.\u001b[0m\u001b[0mpath\u001b[0m\u001b[0;34m.\u001b[0m\u001b[0mexists\u001b[0m\u001b[0;34m(\u001b[0m\u001b[0mpath_tem1\u001b[0m\u001b[0;34m)\u001b[0m\u001b[0;34m:\u001b[0m\u001b[0;34m\u001b[0m\u001b[0;34m\u001b[0m\u001b[0m\n",
            "\u001b[0;31mFileExistsError\u001b[0m: [Errno 17] File exists: '/content/2021-11-02/bias/'"
          ]
        }
      ]
    },
    {
      "cell_type": "code",
      "source": [
        "!mkdir 20211022-starlink/bias/\n",
        "!mkdir 20211022-starlink/flat/\n",
        "!mkdir 20211022-starlink/dark/"
      ],
      "metadata": {
        "id": "tTmgMNX_gdBI"
      },
      "execution_count": null,
      "outputs": []
    },
    {
      "cell_type": "code",
      "source": [
        "!mv 20211022-starlink/bias*fits 20211022-starlink/bias/\n",
        "!ls 20211022-starlink/bias/"
      ],
      "metadata": {
        "colab": {
          "base_uri": "https://localhost:8080/"
        },
        "id": "FnF8pE-zSioA",
        "outputId": "f9d83699-f6a4-4aed-c6bc-533265fbc1e3"
      },
      "execution_count": null,
      "outputs": [
        {
          "output_type": "stream",
          "name": "stdout",
          "text": [
            "bias-m-2X2-006.fits  bias-m-2X2-008.fits  bias-m-2X2-010.fits\n",
            "bias-m-2X2-007.fits  bias-m-2X2-009.fits\n"
          ]
        }
      ]
    },
    {
      "cell_type": "code",
      "source": [
        "!mv 20211022-starlink/dark*fits 20211022-starlink/dark/\n",
        "!ls 20211022-starlink/dark/\n",
        "\n",
        "!mv 20211022-starlink/flat*fits 20211022-starlink/flat/\n",
        "!ls 20211022-starlink/flat/"
      ],
      "metadata": {
        "colab": {
          "base_uri": "https://localhost:8080/"
        },
        "id": "dXhtCK85StWP",
        "outputId": "88166295-6594-4d51-ba67-15bac66ff699"
      },
      "execution_count": null,
      "outputs": [
        {
          "output_type": "stream",
          "name": "stdout",
          "text": [
            "dark-m-2X2-016.fits  dark-m-2X2-018.fits  dark-m-2X2-020.fits\n",
            "dark-m-2X2-017.fits  dark-m-2X2-019.fits\n",
            "flatB-e-2X2-001.fits  flatR-e-2X2-011.fits  flatV-e-2X2-006.fits\n",
            "flatB-e-2X2-002.fits  flatR-e-2X2-012.fits  flatV-e-2X2-007.fits\n",
            "flatB-e-2X2-003.fits  flatR-e-2X2-013.fits  flatV-e-2X2-008.fits\n",
            "flatB-e-2X2-004.fits  flatR-e-2X2-014.fits  flatV-e-2X2-009.fits\n",
            "flatB-e-2X2-005.fits  flatR-e-2X2-015.fits  flatV-e-2X2-010.fits\n"
          ]
        }
      ]
    },
    {
      "cell_type": "code",
      "source": [
        "path_list = ('/content/20211022-starlink')\n",
        "list_namesf = os.listdir(path_list)"
      ],
      "metadata": {
        "id": "yn5LbGaDLrbo"
      },
      "execution_count": null,
      "outputs": []
    },
    {
      "cell_type": "code",
      "source": [
        "satellites = pd.read_csv('/content/satellites_sort.csv', sep=',')\n",
        "\n",
        "df_aslist = pd.DataFrame()\n",
        "df_aslist['object'] = satellites['Object']\n",
        "df_aslist['date obs'] = satellites['Date-Obs']"
      ],
      "metadata": {
        "id": "-ZIg5cZEJ5QK"
      },
      "execution_count": null,
      "outputs": []
    },
    {
      "cell_type": "code",
      "source": [
        "df_aslist.columns"
      ],
      "metadata": {
        "colab": {
          "base_uri": "https://localhost:8080/"
        },
        "id": "COGiJuZfOl_Q",
        "outputId": "30af2881-a54e-4906-e2c7-57546f8ffad4"
      },
      "execution_count": null,
      "outputs": [
        {
          "output_type": "execute_result",
          "data": {
            "text/plain": [
              "Index(['object', 'date obs'], dtype='object')"
            ]
          },
          "metadata": {},
          "execution_count": 72
        }
      ]
    },
    {
      "cell_type": "code",
      "source": [
        "to_leosatpy_1022 = []\n",
        "\n",
        "for idx, namef in enumerate(list_namesf):\n",
        "     if (namef[:11] in df_aslist['object'].values):\n",
        "          to_leosatpy_1022.append(namef)"
      ],
      "metadata": {
        "id": "oNMvLUIBOS-U"
      },
      "execution_count": null,
      "outputs": []
    },
    {
      "cell_type": "code",
      "source": [],
      "metadata": {
        "id": "p-_NMYciPWAQ"
      },
      "execution_count": null,
      "outputs": []
    }
  ]
}